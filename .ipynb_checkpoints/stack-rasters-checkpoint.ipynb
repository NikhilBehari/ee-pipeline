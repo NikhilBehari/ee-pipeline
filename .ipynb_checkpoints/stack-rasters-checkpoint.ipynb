{
 "cells": [
  {
   "cell_type": "markdown",
   "metadata": {},
   "source": [
    "### Import required packages"
   ]
  },
  {
   "cell_type": "code",
   "execution_count": 5,
   "metadata": {},
   "outputs": [],
   "source": [
    "from osgeo import gdal, osr, ogr"
   ]
  },
  {
   "cell_type": "code",
   "execution_count": 8,
   "metadata": {},
   "outputs": [
    {
     "data": {
      "text/plain": [
       "<osgeo.gdal.Dataset; proxy of <Swig Object of type 'GDALDatasetShadow *' at 0x10afcc9c0> >"
      ]
     },
     "execution_count": 8,
     "metadata": {},
     "output_type": "execute_result"
    }
   ],
   "source": [
    "outvrt = '/vsimem/stacked.vrt' #/vsimem is special in-memory virtual \"directory\"\n",
    "outtif = '/tmp/stacked.tif'\n",
    "tifs = ['basic.tif', 'spam2017tif'] \n",
    "#or for all tifs in a dir\n",
    "#import glob\n",
    "#tifs = glob.glob('dir/*.tif')\n",
    "\n",
    "outds = gdal.BuildVRT(outvrt, tifs, separate=True)\n",
    "outds = gdal.Translate(outtif, outds)\n",
    "print(outds)"
   ]
  },
  {
   "cell_type": "code",
   "execution_count": null,
   "metadata": {},
   "outputs": [],
   "source": []
  }
 ],
 "metadata": {
  "kernelspec": {
   "display_name": "Python 3",
   "language": "python",
   "name": "python3"
  },
  "language_info": {
   "codemirror_mode": {
    "name": "ipython",
    "version": 3
   },
   "file_extension": ".py",
   "mimetype": "text/x-python",
   "name": "python",
   "nbconvert_exporter": "python",
   "pygments_lexer": "ipython3",
   "version": "3.7.7"
  }
 },
 "nbformat": 4,
 "nbformat_minor": 4
}
