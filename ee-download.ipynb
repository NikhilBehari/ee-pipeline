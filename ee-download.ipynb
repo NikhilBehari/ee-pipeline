{
 "cells": [
  {
   "cell_type": "code",
   "execution_count": null,
   "metadata": {},
   "outputs": [],
   "source": [
    "import ee\n",
    "import ee.mapclient\n",
    "import time\n",
    "import datetime\n",
    "import sys\n",
    "\n",
    "# Authenticate GEE account \n",
    "ee.Authenticate()\n",
    "ee.Initialize()"
   ]
  },
  {
   "cell_type": "code",
   "execution_count": null,
   "metadata": {},
   "outputs": [],
   "source": [
    "# Method to generate polygons from center points and grid sizes\n",
    "def generate_polygons(coordinates, boxSize):\n",
    "  polygons = []\n",
    "  for c in coordinates:\n",
    "    bw = boxSize[0]/2\n",
    "    bh = boxSize[1]/2\n",
    "    wc = c[0]\n",
    "    hc = c[1]\n",
    "\n",
    "    polygon = ee.Geometry.Polygon([\n",
    "      [[wc-bw, hc-bh],\n",
    "      [wc+bw, hc-bh],\n",
    "      [wc+bw, hc+bh],\n",
    "      [wc-bw, hc+bh],\n",
    "      [wc-bw, hc-bh]\n",
    "      ]\n",
    "    ])\n",
    "\n",
    "    polygons.append(polygon)\n",
    "  return polygons"
   ]
  },
  {
   "cell_type": "code",
   "execution_count": null,
   "metadata": {},
   "outputs": [],
   "source": [
    "# Special function for processing Sentinel-2 dataset\n",
    "def process_sentinel(dataset, time_range, area):\n",
    "\n",
    "    # remove clouds from images with masking\n",
    "    def maskclouds(image):\n",
    "        band_qa = image.select('QA60')\n",
    "        cloud_m = ee.Number(2).pow(10).int()\n",
    "        cirrus_m = ee.Number(2).pow(11).int()\n",
    "        mask = band_qa.bitwiseAnd(cloud_m).eq(0) and(\n",
    "            band_qa.bitwiseAnd(cirrus_m).eq(0))\n",
    "        return image.updateMask(mask).divide(10000)\n",
    "\n",
    "    # produce filtered image using median\n",
    "    filter_image = (ee.ImageCollection(dataset).\n",
    "                         filterBounds(area).\n",
    "                         filterDate(time_range[0], time_range[1]).\n",
    "                         filter(ee.Filter.lt('CLOUDY_PIXEL_PERCENTAGE', 20)).\n",
    "                         map(maskclouds))\n",
    "\n",
    "    sentinel_median = filter_image.median()\n",
    "    # image_band = sentinel_median.select(['B4','B3','B2'])\n",
    "    return sentinel_median"
   ]
  },
  {
   "cell_type": "code",
   "execution_count": null,
   "metadata": {},
   "outputs": [],
   "source": [
    "# Download image collection (stacked rasters)\n",
    "def download_collection(datasets, timerange, coordinates, outputFolder, scale, report=False, testRun=True):\n",
    "      \n",
    "  print(\"Exporing Image Collection to \" + outputFolder + \" Folder\")\n",
    "\n",
    "  for d_i,d in enumerate(datasets):\n",
    "    \n",
    "    print(\"\\nProcessing \" + d + \"...\")\n",
    "    \n",
    "    for c_i, c in enumerate(coordinates):\n",
    "\n",
    "      if d == \"COPERNICUS/S2\" or d == \"COPERNICUS/S2_SR\":\n",
    "        image = process_sentinel(d, timerange, c)\n",
    "      else:\n",
    "        collection = (ee.ImageCollection(d)\n",
    "                .filterDate(timerange[0], timerange[1])\n",
    "                .filterBounds(c)\n",
    "                )\n",
    "        image = collection.first().clip(c)\n",
    "\n",
    "      if testRun:\n",
    "        print(\"Dataset: \" + str(d_i) + \", Coordinates: \" + str(c_i))\n",
    "      else:\n",
    "        print(\"Sending img_\"+ str(d_i) + \"_\" + str(c_i)+\" to GEE...\", end=\" \")\n",
    "        task = ee.batch.Export.image.toDrive(\n",
    "            image=image,\n",
    "            description=\"img_\" + str(d_i) + \"_\" + str(c_i),\n",
    "            folder=outputFolder,\n",
    "            region=c,\n",
    "            scale=30\n",
    "        )\n",
    "        task.start()\n",
    "        print(\"\\x1b[32mComplete\\x1b[0m\")\n",
    "\n",
    "    print(\"Complete\")"
   ]
  },
  {
   "cell_type": "code",
   "execution_count": null,
   "metadata": {},
   "outputs": [],
   "source": [
    "# Download single image rather than image collection \n",
    "def download_image(dataset, timerange, coordinates, outputFolder, scale, report=False, testRun=True):\n",
    "  \n",
    "  print(\"Exporing Image Collection to \" + outputFolder + \" Folder\")\n",
    "  \n",
    "  for d_i, d in enumerate(dataset):\n",
    "    for ind, coordinate in enumerate(coordinates): \n",
    "      image = (ee.Image(d))\n",
    "      image = image.clip(coordinate)\n",
    "\n",
    "      task = ee.batch.Export.image.toDrive(\n",
    "              image=image,\n",
    "              description=\"image\" + str(d) + str(ind),\n",
    "              folder=outputFolder,\n",
    "              scale=1,\n",
    "          )\n",
    "      task.start()\n",
    "\n",
    "    print(\"Complete\")"
   ]
  },
  {
   "cell_type": "code",
   "execution_count": null,
   "metadata": {},
   "outputs": [],
   "source": [
    "# Example of calling download_collection function \n",
    "# Uncomment below for a test example \n",
    "\n",
    "# datasets = ['CIESIN/GPWv411/GPW_Basic_Demographic_Characteristics', \n",
    "#             'NASA/FLDAS/NOAH01/C/GL/M/V001', \n",
    "#             'NASA/GLDAS/V021/NOAH/G025/T3H'\n",
    "#             ]\n",
    "# centers = [[ 48.299830, -21.245750],[43.6696600, -23.3541730]]\n",
    "# box = [1.5, 1.5]\n",
    "# dates = [datetime.datetime(2010, 1, 1), datetime.datetime(2019, 5, 1)]\n",
    "# download_collection(datasets=datasets, timerange=dates, coordinates=generate_polygons(centers, box) , outputFolder='testing_ee', scale=1, testRun=False)"
   ]
  }
 ],
 "metadata": {
  "kernelspec": {
   "display_name": "Python 3",
   "language": "python",
   "name": "python3"
  },
  "language_info": {
   "codemirror_mode": {
    "name": "ipython",
    "version": 3
   },
   "file_extension": ".py",
   "mimetype": "text/x-python",
   "name": "python",
   "nbconvert_exporter": "python",
   "pygments_lexer": "ipython3",
   "version": "3.7.7"
  }
 },
 "nbformat": 4,
 "nbformat_minor": 4
}
