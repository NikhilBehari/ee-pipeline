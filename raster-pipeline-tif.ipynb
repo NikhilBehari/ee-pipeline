{
 "cells": [
  {
   "cell_type": "markdown",
   "metadata": {},
   "source": [
    "### Import required packages"
   ]
  },
  {
   "cell_type": "code",
   "execution_count": 1,
   "metadata": {},
   "outputs": [],
   "source": [
    "from osgeo import gdal, osr, ogr\n",
    "import matplotlib.pyplot as plt\n",
    "import numpy as np\n",
    "import os\n",
    "import osmnx as ox\n",
    "import rasterio\n",
    "from rasterstats import zonal_stats\n",
    "from rasterio.plot import show\n",
    "from rasterio.enums import Resampling\n",
    "import geopandas as gpd\n",
    "from shapely.geometry import Polygon\n",
    "import json\n",
    "import math"
   ]
  },
  {
   "cell_type": "markdown",
   "metadata": {},
   "source": [
    "### Set constants"
   ]
  },
  {
   "cell_type": "code",
   "execution_count": 79,
   "metadata": {},
   "outputs": [],
   "source": [
    "def findGDALCoordinates(path):\n",
    "    if not os.path.isfile(path):\n",
    "        return []\n",
    "    data = gdal.Open(path,0)\n",
    "    if data is None:\n",
    "        return []\n",
    "    geoTransform = data.GetGeoTransform()\n",
    "    minx = geoTransform[0]\n",
    "    maxy = geoTransform[3]\n",
    "    maxx = minx + geoTransform[1]*data.RasterXSize\n",
    "    miny = maxy + geoTransform[5]*data.RasterYSize\n",
    "    return [minx,maxy,maxx,miny]"
   ]
  },
  {
   "cell_type": "code",
   "execution_count": 89,
   "metadata": {},
   "outputs": [
    {
     "name": "stdout",
     "output_type": "stream",
     "text": [
      "[47.42053671268654, -18.809913565707074, 47.62104068410202, -19.01041753712255]\n"
     ]
    }
   ],
   "source": [
    "from osgeo import gdal\n",
    "\n",
    "input_dir = '../raster-images/basic.tif'\n",
    "reference = gdal.Open(input_dir, 0)\n",
    "rt = reference.GetGeoTransform()\n",
    "xr = rt[1]\n",
    "yr = -rt[5]\n",
    "print(findGDALCoordinates(\"../raster-images/sentinel.tif\"))\n",
    "ds = gdal.Translate('../raster-images/testing.tif', input_dir, xRes=0.02, yRes=0.02, \n",
    "                    resampleAlg=\"bilinear\", \n",
    "                    projWin = findGDALCoordinates(\"../raster-images/sentinel.tif\"),\n",
    "                    format='vrt');\n",
    "\n",
    "ds.GetGeoTransform()\n",
    "\n"
   ]
  },
  {
   "cell_type": "code",
   "execution_count": null,
   "metadata": {},
   "outputs": [],
   "source": []
  }
 ],
 "metadata": {
  "kernelspec": {
   "display_name": "Python 3",
   "language": "python",
   "name": "python3"
  },
  "language_info": {
   "codemirror_mode": {
    "name": "ipython",
    "version": 3
   },
   "file_extension": ".py",
   "mimetype": "text/x-python",
   "name": "python",
   "nbconvert_exporter": "python",
   "pygments_lexer": "ipython3",
   "version": "3.7.7"
  }
 },
 "nbformat": 4,
 "nbformat_minor": 4
}
