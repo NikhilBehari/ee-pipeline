{
 "cells": [
  {
   "cell_type": "markdown",
   "metadata": {},
   "source": [
    "### Import required packages"
   ]
  },
  {
   "cell_type": "code",
   "execution_count": 1,
   "metadata": {},
   "outputs": [],
   "source": [
    "from osgeo import gdal, osr, ogr\n",
    "import matplotlib.pyplot as plt\n",
    "import numpy as np\n",
    "import os\n",
    "import osmnx as ox\n",
    "import rasterio\n",
    "from rasterstats import zonal_stats\n",
    "from rasterio.plot import show\n",
    "from rasterio.enums import Resampling\n",
    "import geopandas as gpd\n",
    "from shapely.geometry import Polygon\n",
    "import json\n",
    "import math"
   ]
  },
  {
   "cell_type": "markdown",
   "metadata": {},
   "source": [
    "### Set constants"
   ]
  },
  {
   "cell_type": "code",
   "execution_count": 2,
   "metadata": {},
   "outputs": [],
   "source": [
    "# CONSTANTS\n",
    "BASE_CRS = 4326"
   ]
  },
  {
   "cell_type": "markdown",
   "metadata": {},
   "source": [
    "### Gridify region and export stats from all raster layers"
   ]
  },
  {
   "cell_type": "code",
   "execution_count": null,
   "metadata": {
    "scrolled": true
   },
   "outputs": [
    {
     "name": "stderr",
     "output_type": "stream",
     "text": [
      "/opt/anaconda3/envs/mn_analysis/lib/python3.7/site-packages/pyproj/crs/crs.py:53: FutureWarning: '+init=<authority>:<code>' syntax is deprecated. '<authority>:<code>' is the preferred initialization method. When making the change, be mindful of axis order changes: https://pyproj4.github.io/pyproj/stable/gotchas.html#axis-order-changes-in-proj-6\n",
      "  return _prepare_from_string(\" \".join(pjargs))\n",
      "/opt/anaconda3/envs/mn_analysis/lib/python3.7/site-packages/pyproj/crs/crs.py:53: FutureWarning: '+init=<authority>:<code>' syntax is deprecated. '<authority>:<code>' is the preferred initialization method. When making the change, be mindful of axis order changes: https://pyproj4.github.io/pyproj/stable/gotchas.html#axis-order-changes-in-proj-6\n",
      "  return _prepare_from_string(\" \".join(pjargs))\n"
     ]
    },
    {
     "name": "stdout",
     "output_type": "stream",
     "text": [
      "[ 47.5255809 -18.9100122  47.5255809 -18.9100122]\n",
      "Analyzing location: [47.4255809, -18.9100122, 47.5255809, -18.8100122]\n",
      "\n",
      "Opening layers//basic.tif\n",
      "Number of Layers: 28\n",
      "EPSG: 4326\n"
     ]
    },
    {
     "name": "stderr",
     "output_type": "stream",
     "text": [
      "/opt/anaconda3/envs/mn_analysis/lib/python3.7/site-packages/rasterstats/io.py:302: UserWarning: Setting nodata to -999; specify nodata explicitly\n",
      "  warnings.warn(\"Setting nodata to -999; specify nodata explicitly\")\n"
     ]
    },
    {
     "name": "stdout",
     "output_type": "stream",
     "text": [
      "Complete\n",
      "Analyzing location: [47.4255809, -19.010012200000002, 47.5255809, -18.9100122]\n",
      "\n",
      "Opening layers//basic.tif\n",
      "Number of Layers: 28\n",
      "EPSG: 4326\n",
      "Complete\n",
      "Analyzing location: [47.4255809, -19.110012200000003, 47.5255809, -19.010012200000002]\n",
      "\n",
      "Opening layers//basic.tif\n",
      "Number of Layers: 28\n",
      "EPSG: 4326\n",
      "Complete\n",
      "Analyzing location: [47.5255809, -18.9100122, 47.6255809, -18.8100122]\n",
      "\n",
      "Opening layers//basic.tif\n",
      "Number of Layers: 28\n",
      "EPSG: 4326\n",
      "Complete\n",
      "Analyzing location: [47.5255809, -19.010012200000002, 47.6255809, -18.9100122]\n",
      "\n",
      "Opening layers//basic.tif\n",
      "Number of Layers: 28\n",
      "EPSG: 4326\n",
      "Complete\n",
      "Analyzing location: [47.5255809, -19.110012200000003, 47.6255809, -19.010012200000002]\n",
      "\n",
      "Opening layers//basic.tif\n",
      "Number of Layers: 28\n",
      "EPSG: 4326\n",
      "Complete\n",
      "Analyzing location: [47.6255809, -18.9100122, 47.725580900000004, -18.8100122]\n",
      "\n",
      "Opening layers//basic.tif\n",
      "Number of Layers: 28\n",
      "EPSG: 4326\n"
     ]
    }
   ],
   "source": [
    "regionStats(BASE_CRS=BASE_CRS, LOCS=gridify(\"Antananarivo, Madagascar\", square_size=0.1), DIR='layers/', STATS=['mean'])"
   ]
  },
  {
   "cell_type": "markdown",
   "metadata": {},
   "source": [
    "### Gridify region "
   ]
  },
  {
   "cell_type": "code",
   "execution_count": 3,
   "metadata": {},
   "outputs": [],
   "source": [
    "def gridify(loc, square_size):\n",
    "    \n",
    "     # Use location name as Polygon\n",
    "    region = ox.geocode_to_gdf(loc)\n",
    "    crs = {'init': 'epsg:'+str(BASE_CRS)}\n",
    "    region = region.to_crs(crs=crs)\n",
    "\n",
    "    # Set region bounds and grid square size\n",
    "#     print(region.total_bounds)\n",
    "    xmin,ymin,xmax,ymax = region.total_bounds\n",
    "    side= square_size\n",
    "\n",
    "    # Create grid columns and rows\n",
    "    cols = list(np.arange(xmin-side, xmax+side, side))\n",
    "    rows = list(np.arange(ymin-side, ymax+side, side))\n",
    "    rows.reverse()\n",
    "\n",
    "    # Convert grid columns and rows to polygons\n",
    "    polygons = []\n",
    "    for x in cols:\n",
    "        for y in rows:\n",
    "            polygons.append( Polygon([(x,y), (x+side, y), (x+side, y-side), (x, y-side)]) )\n",
    "\n",
    "    # Convert to GDF\n",
    "    grid = gpd.GeoDataFrame({'geometry':polygons})\n",
    "    \n",
    "    # Visualize region \n",
    "    ax = region.plot(facecolor='lightblue', edgecolor='lightblue', linewidth=2)\n",
    "#     grid.plot(ax=ax, facecolor='None', edgecolor='black', linewidth=0.5)\n",
    "    \n",
    "    # Convert to loc list\n",
    "    grid_locs = []\n",
    "    for index, square in grid.iterrows():\n",
    "        grid_locs.append(list(square[\"geometry\"].bounds))\n",
    "#     print(grid_locs)\n",
    "    return grid_locs"
   ]
  },
  {
   "cell_type": "markdown",
   "metadata": {},
   "source": [
    "### Retrieve and export raster values for region grid"
   ]
  },
  {
   "cell_type": "code",
   "execution_count": 4,
   "metadata": {},
   "outputs": [],
   "source": [
    "# Base Coordinate System EPSG code \n",
    "# Location center [minx, miny, maxx, maxy]\n",
    "# Raster directory\n",
    "# Which sampling statistic/s to output\n",
    "\n",
    "def regionStats(BASE_CRS, LOCS, DIR, STATS):\n",
    "    output = {}\n",
    "    tifs = []\n",
    "    shps = []\n",
    "\n",
    "    # Iterate through directory\n",
    "    for subdir, dirs, files in os.walk(DIR):\n",
    "        for f in files:\n",
    "            path = subdir + os.sep + f\n",
    "            if path.endswith(\".tif\"):\n",
    "                tifs.append(path)\n",
    "            elif path.endswith(\".shp\"):\n",
    "                shps.append(path)\n",
    "\n",
    "    output[\"Locations\"] = LOCS\n",
    "\n",
    "    for ind, LOC in enumerate(LOCS):\n",
    "\n",
    "        print(\"Analyzing location: \" + str(LOC))\n",
    "\n",
    "        # Initialize empty location holder\n",
    "        loc_output = {}\n",
    "\n",
    "        # Add constants to location output file\n",
    "        loc_output[\"Location\"] = LOC\n",
    "        loc_output[\"Stats\"] = STATS\n",
    "        loc_output[\"Bands\"] = {}\n",
    "\n",
    "        # Iterate through tif files\n",
    "        for ds_path in tifs:\n",
    "            # Select raster image \n",
    "            print(\"\\nOpening \" + ds_path)\n",
    "            ds = gdal.Open(ds_path)\n",
    "\n",
    "            # Get the number of layers\n",
    "            print(\"Number of Layers: \" + str(ds.RasterCount))\n",
    "    #         print(dir(ds.GetRasterBand(0).GetStatistics(True, True))\n",
    "\n",
    "            # Get source coordinate reference type \n",
    "            projection = int(osr.SpatialReference(wkt=ds.GetProjection()).GetAttrValue('AUTHORITY',1))\n",
    "            print(\"EPSG: \" + str(projection))\n",
    "            source = osr.SpatialReference()\n",
    "            source.ImportFromEPSG(projection)\n",
    "\n",
    "            # Set target coordinate reference \n",
    "            target = osr.SpatialReference()\n",
    "            target.ImportFromEPSG(BASE_CRS)\n",
    "\n",
    "            # Create point transformation\n",
    "            transform = osr.CoordinateTransformation(source, target)\n",
    "\n",
    "            # Get raster coordinates (rc) in source reference \n",
    "            rc = getRasterCoords(ds)\n",
    "    #         print(\"Raster coordinates in source Ref: \" + str(rc))\n",
    "\n",
    "            # Convert raster coordinates to target reference\n",
    "            rc_conv = np.array([])\n",
    "            y,x,z = transform.TransformPoint(rc[0], rc[1])\n",
    "            rc_conv = np.concatenate((rc_conv, [x, y]))\n",
    "            y,x,z = transform.TransformPoint(rc[2], rc[3])\n",
    "            rc_conv = np.concatenate((rc_conv, [x, y]))\n",
    "    #         print(\"Raster coordinates in target reference: \" + str(rc_conv))\n",
    "\n",
    "            # Check if raster contains the desired location\n",
    "            if rasterContainsLoc(LOC, rc_conv):\n",
    "    \n",
    "                # Iterate through bands\n",
    "                for band in range(1, 2):#ds.RasterCount+1):\n",
    "                    model = rasterio.open(ds_path)\n",
    "                    crs = {'init': 'epsg:'+str(BASE_CRS)}\n",
    "                    polygon = gpd.GeoDataFrame(crs=crs, geometry=[returnPolygon(LOC)])\n",
    "                    place = polygon.to_crs(crs=model.crs)\n",
    "\n",
    "                    # Optional - Use location name as Polygon\n",
    "    #                 place = ox.geocode_to_gdf(\"California\")\n",
    "    #                 place = ox.geocode_to_gdf(polygon)\n",
    "    #                 place = place.to_crs(crs=model.crs)\n",
    "\n",
    "                    # Optional - Visualize band \n",
    "    #                 ax = place.plot(facecolor='None', edgecolor='red', linewidth=2)\n",
    "    #                 show((model, band), ax=ax)\n",
    "\n",
    "                    # Convert raster to array\n",
    "                    array = model.read(band)\n",
    "                    affine = model.transform\n",
    "\n",
    "                    # Check if resample is needed\n",
    "                    if returnPolygon(LOC).area < getPixelSize(ds, transform)[0]*getPixelSize(ds, transform)[1]:\n",
    "    #                     print(\"Resampling image from area \" + str(getPixelSize(ds)[0]))\n",
    "                        upscale_factor = getPixelSize(ds, transform)[0]*getPixelSize(ds, transform)[1] / returnPolygon(LOC).area\n",
    "#                         print(upscale_factor)\n",
    "                        array = model.read(\n",
    "                            band,\n",
    "                            out_shape=(\n",
    "                                int(model.height * upscale_factor),\n",
    "                                int(model.width * upscale_factor)\n",
    "                            ),\n",
    "                            resampling=Resampling.bilinear)\n",
    "                        affine = model.transform * model.transform.scale(\n",
    "                            (model.width / array.shape[-1]),\n",
    "                            (model.height / array.shape[-2])\n",
    "                        )\n",
    "\n",
    "                    # Computer zonal stats\n",
    "                    zs = zonal_stats(place, array, affine=affine, stats=STATS) \n",
    "\n",
    "                    # Write results to output dict\n",
    "                    loc_output[\"Bands\"][os.path.basename(ds_path) + \"-\" + str(band)] = zs[0]\n",
    "\n",
    "                # Finished processing file bands\n",
    "                print(\"Complete\")\n",
    "\n",
    "            # If raster does not contain desired location\n",
    "            else:\n",
    "                print(\"ERROR: Raster does not contain location: \" + str(LOC) + \". Will not be included in results output.\")\n",
    "\n",
    "        output[ind] = loc_output\n",
    "\n",
    "    print(\"\\nWriting all location results to results.json...\")\n",
    "    with open('result.json', 'w') as fp:\n",
    "        json.dump(output, fp, indent=2)\n",
    "    print(\"Complete\")"
   ]
  },
  {
   "cell_type": "markdown",
   "metadata": {},
   "source": [
    "### Get raster resolution"
   ]
  },
  {
   "cell_type": "code",
   "execution_count": 5,
   "metadata": {},
   "outputs": [],
   "source": [
    "def getPixelSize(ds, transform):\n",
    "    \n",
    "    gt = ds.GetGeoTransform()\n",
    "    return(transform.TransformPoint(gt[1], -gt[5]))"
   ]
  },
  {
   "cell_type": "markdown",
   "metadata": {},
   "source": [
    "### Get raster corner coordinates"
   ]
  },
  {
   "cell_type": "code",
   "execution_count": 6,
   "metadata": {},
   "outputs": [],
   "source": [
    "def getRasterCoords(ds):\n",
    "    \n",
    "    gt = ds.GetGeoTransform()\n",
    "    w = ds.RasterXSize\n",
    "    h = ds.RasterYSize\n",
    "    \n",
    "    minx = gt[0]\n",
    "    maxy = gt[3] \n",
    "    miny = gt[3] + w*gt[4] + h*gt[5] \n",
    "    maxx = gt[0] + w*gt[1] + h*gt[2]\n",
    "    \n",
    "    return[minx, miny, maxx, maxy]"
   ]
  },
  {
   "cell_type": "markdown",
   "metadata": {},
   "source": [
    "### Check if raster contains desired location square"
   ]
  },
  {
   "cell_type": "code",
   "execution_count": 7,
   "metadata": {},
   "outputs": [],
   "source": [
    "def rasterContainsLoc(LOC, rc):\n",
    "    if LOC[0] >= rc[0] and LOC[3] <= rc[3] and LOC[1] >= rc[1] and LOC[3] <= rc[3]:\n",
    "        return True\n",
    "    else:\n",
    "        return False"
   ]
  },
  {
   "cell_type": "markdown",
   "metadata": {},
   "source": [
    "### Return polygon from coordinate square"
   ]
  },
  {
   "cell_type": "code",
   "execution_count": 8,
   "metadata": {},
   "outputs": [],
   "source": [
    "def returnPolygon(LOC):\n",
    "    poly = Polygon([(LOC[0], LOC[1]), (LOC[2], LOC[1]), (LOC[2], LOC[3]), (LOC[0], LOC[3]), (LOC[0], LOC[1])])\n",
    "    return(poly)"
   ]
  },
  {
   "cell_type": "code",
   "execution_count": null,
   "metadata": {},
   "outputs": [],
   "source": []
  }
 ],
 "metadata": {
  "kernelspec": {
   "display_name": "Python 3",
   "language": "python",
   "name": "python3"
  },
  "language_info": {
   "codemirror_mode": {
    "name": "ipython",
    "version": 3
   },
   "file_extension": ".py",
   "mimetype": "text/x-python",
   "name": "python",
   "nbconvert_exporter": "python",
   "pygments_lexer": "ipython3",
   "version": "3.7.7"
  }
 },
 "nbformat": 4,
 "nbformat_minor": 4
}
