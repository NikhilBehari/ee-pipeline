{
 "cells": [
  {
   "cell_type": "markdown",
   "metadata": {},
   "source": [
    "### Import required packages"
   ]
  },
  {
   "cell_type": "code",
   "execution_count": 5,
   "metadata": {},
   "outputs": [],
   "source": [
    "from osgeo import gdal, osr, ogr"
   ]
  },
  {
   "cell_type": "code",
   "execution_count": 12,
   "metadata": {},
   "outputs": [
    {
     "name": "stdout",
     "output_type": "stream",
     "text": [
      "<osgeo.gdal.Dataset; proxy of <Swig Object of type 'GDALDatasetShadow *' at 0x10afcc5a0> >\n"
     ]
    }
   ],
   "source": [
    "outvrt = 'stacked.vrt' #/vsimem is special in-memory virtual \"directory\"\n",
    "outtif = 'stacked.tif'\n",
    "tifs = ['basic.tif', 'spam2017.tif'] \n",
    "#or for all tifs in a dir\n",
    "#import glob\n",
    "#tifs = glob.glob('dir/*.tif')\n",
    "\n",
    "outds = gdal.BuildVRT(outvrt, tifs, separate=False)\n",
    "outds = gdal.Translate(outtif, outds)\n",
    "print(outds)"
   ]
  },
  {
   "cell_type": "code",
   "execution_count": null,
   "metadata": {},
   "outputs": [],
   "source": []
  }
 ],
 "metadata": {
  "kernelspec": {
   "display_name": "Python 3",
   "language": "python",
   "name": "python3"
  },
  "language_info": {
   "codemirror_mode": {
    "name": "ipython",
    "version": 3
   },
   "file_extension": ".py",
   "mimetype": "text/x-python",
   "name": "python",
   "nbconvert_exporter": "python",
   "pygments_lexer": "ipython3",
   "version": "3.7.7"
  }
 },
 "nbformat": 4,
 "nbformat_minor": 4
}
