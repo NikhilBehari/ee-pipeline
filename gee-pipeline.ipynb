{
  "nbformat": 4,
  "nbformat_minor": 0,
  "metadata": {
    "colab": {
      "name": "gee_data_pipeline.ipynb",
      "provenance": [],
      "collapsed_sections": []
    },
    "kernelspec": {
      "name": "python3",
      "display_name": "Python 3"
    }
  },
  "cells": [
    {
      "cell_type": "code",
      "metadata": {
        "id": "8KRTRorP-gBf",
        "colab_type": "code",
        "cellView": "both",
        "colab": {
          "base_uri": "https://localhost:8080/",
          "height": 479
        },
        "outputId": "80e58582-961f-4fdb-f62c-7257a55896aa"
      },
      "source": [
        "import ee\n",
        "import ee.mapclient\n",
        "import time\n",
        "import datetime\n",
        "import sys\n",
        "!pip install geetools"
      ],
      "execution_count": 1,
      "outputs": [
        {
          "output_type": "stream",
          "text": [
            "Collecting geetools\n",
            "\u001b[?25l  Downloading https://files.pythonhosted.org/packages/47/91/907dd932f3c0d8a72cc78d80c78452a95219fc00409813e50176a20ea801/geetools-0.6.0.tar.gz (63kB)\n",
            "\u001b[K     |████████████████████████████████| 71kB 2.1MB/s \n",
            "\u001b[?25hRequirement already satisfied: requests in /usr/local/lib/python3.6/dist-packages (from geetools) (2.23.0)\n",
            "Collecting pyshp\n",
            "\u001b[?25l  Downloading https://files.pythonhosted.org/packages/27/16/3bf15aa864fb77845fab8007eda22c2bd67bd6c1fd13496df452c8c43621/pyshp-2.1.0.tar.gz (215kB)\n",
            "\u001b[K     |████████████████████████████████| 225kB 7.5MB/s \n",
            "\u001b[?25hRequirement already satisfied: pandas in /usr/local/lib/python3.6/dist-packages (from geetools) (1.0.5)\n",
            "Requirement already satisfied: certifi>=2017.4.17 in /usr/local/lib/python3.6/dist-packages (from requests->geetools) (2020.6.20)\n",
            "Requirement already satisfied: urllib3!=1.25.0,!=1.25.1,<1.26,>=1.21.1 in /usr/local/lib/python3.6/dist-packages (from requests->geetools) (1.24.3)\n",
            "Requirement already satisfied: idna<3,>=2.5 in /usr/local/lib/python3.6/dist-packages (from requests->geetools) (2.10)\n",
            "Requirement already satisfied: chardet<4,>=3.0.2 in /usr/local/lib/python3.6/dist-packages (from requests->geetools) (3.0.4)\n",
            "Requirement already satisfied: python-dateutil>=2.6.1 in /usr/local/lib/python3.6/dist-packages (from pandas->geetools) (2.8.1)\n",
            "Requirement already satisfied: numpy>=1.13.3 in /usr/local/lib/python3.6/dist-packages (from pandas->geetools) (1.18.5)\n",
            "Requirement already satisfied: pytz>=2017.2 in /usr/local/lib/python3.6/dist-packages (from pandas->geetools) (2018.9)\n",
            "Requirement already satisfied: six>=1.5 in /usr/local/lib/python3.6/dist-packages (from python-dateutil>=2.6.1->pandas->geetools) (1.15.0)\n",
            "Building wheels for collected packages: geetools, pyshp\n",
            "  Building wheel for geetools (setup.py) ... \u001b[?25l\u001b[?25hdone\n",
            "  Created wheel for geetools: filename=geetools-0.6.0-cp36-none-any.whl size=81649 sha256=d1d14457a1b98546def17576d71f4c310325c4e15c4c995b81128dc9eb249ab3\n",
            "  Stored in directory: /root/.cache/pip/wheels/8b/0d/90/c214fd045df9bfc0e9f15dd5819ad4038fc90fab431e77da72\n",
            "  Building wheel for pyshp (setup.py) ... \u001b[?25l\u001b[?25hdone\n",
            "  Created wheel for pyshp: filename=pyshp-2.1.0-cp36-none-any.whl size=32609 sha256=aa037ccb4feedac989bc73662da19ec7de0068fa99241b95066d23a0f7608ed4\n",
            "  Stored in directory: /root/.cache/pip/wheels/a6/0c/de/321b5192ad416b328975a2f0385f72c64db4656501eba7cc1a\n",
            "Successfully built geetools pyshp\n",
            "Installing collected packages: pyshp, geetools\n",
            "Successfully installed geetools-0.6.0 pyshp-2.1.0\n"
          ],
          "name": "stdout"
        }
      ]
    },
    {
      "cell_type": "code",
      "metadata": {
        "id": "oS9zQ3eC-noi",
        "colab_type": "code",
        "colab": {
          "base_uri": "https://localhost:8080/",
          "height": 173
        },
        "outputId": "d470e6ef-de99-4ad7-b2f9-b7de8faeb1ae"
      },
      "source": [
        "ee.Authenticate()\n",
        "ee.Initialize()"
      ],
      "execution_count": 2,
      "outputs": [
        {
          "output_type": "stream",
          "text": [
            "To authorize access needed by Earth Engine, open the following URL in a web browser and follow the instructions. If the web browser does not start automatically, please manually browse the URL below.\n",
            "\n",
            "    https://accounts.google.com/o/oauth2/auth?client_id=517222506229-vsmmajv00ul0bs7p89v5m89qs8eb9359.apps.googleusercontent.com&scope=https%3A%2F%2Fwww.googleapis.com%2Fauth%2Fearthengine+https%3A%2F%2Fwww.googleapis.com%2Fauth%2Fdevstorage.full_control&redirect_uri=urn%3Aietf%3Awg%3Aoauth%3A2.0%3Aoob&response_type=code&code_challenge=GqZkJyz7Lq6Mz-gIZHjvp7QyTJCy4SDo7zsxR8RI8Kc&code_challenge_method=S256\n",
            "\n",
            "The authorization workflow will generate a code, which you should paste in the box below. \n",
            "Enter verification code: 4/3QGXDRRsrHlqBJwNpjfcQaHU2LXcl7n9l2H4QQQ-VRWnvb0s8lb3rFc\n",
            "\n",
            "Successfully saved authorization token.\n"
          ],
          "name": "stdout"
        }
      ]
    },
    {
      "cell_type": "code",
      "metadata": {
        "id": "IHAlZyjt7YIx",
        "colab_type": "code",
        "colab": {}
      },
      "source": [
        "# Method for processing Sentinel-2 dataset\n",
        "def process_sentinel(dataset, time_range, area):\n",
        "\n",
        "    # remove clouds from images with masking\n",
        "    def maskclouds(image):\n",
        "        band_qa = image.select('QA60')\n",
        "        cloud_m = ee.Number(2).pow(10).int()\n",
        "        cirrus_m = ee.Number(2).pow(11).int()\n",
        "        mask = band_qa.bitwiseAnd(cloud_m).eq(0) and(\n",
        "            band_qa.bitwiseAnd(cirrus_m).eq(0))\n",
        "        return image.updateMask(mask).divide(10000)\n",
        "\n",
        "    # produce filtered image using median\n",
        "    filter_image = (ee.ImageCollection(dataset).\n",
        "                         filterBounds(area).\n",
        "                         filterDate(time_range[0], time_range[1]).\n",
        "                         filter(ee.Filter.lt('CLOUDY_PIXEL_PERCENTAGE', 20)).\n",
        "                         map(maskclouds))\n",
        "\n",
        "    sentinel_median = filter_image.median()\n",
        "    # image_band = sentinel_median.select(['B4','B3','B2'])\n",
        "    return sentinel_median"
      ],
      "execution_count": 3,
      "outputs": []
    },
    {
      "cell_type": "code",
      "metadata": {
        "id": "v0y80hXiX5nd",
        "colab_type": "code",
        "colab": {}
      },
      "source": [
        "# Method for processing FLDAS/GLDAS dataset \n",
        "def process_FLDAS(dataset, timerange, coordinates, band):\n",
        "    collection = (ee.ImageCollection(dataset)\n",
        "            .filterDate(timerange[0], timerange[1])\n",
        "            .filterBounds(coordinates)\n",
        "            );\n",
        "    \n",
        "    image = collection.first()\n",
        "\n",
        "    return image.clip(coordinates)"
      ],
      "execution_count": 6,
      "outputs": []
    },
    {
      "cell_type": "markdown",
      "metadata": {
        "id": "u9NcH6tQ8uZZ",
        "colab_type": "text"
      },
      "source": [
        "### Download Data\n",
        "Accepts a list of datasets and output polygon regions and exports images to Drive folder. Only accepts ImageCollection datasets."
      ]
    },
    {
      "cell_type": "code",
      "metadata": {
        "id": "ddVYWIdz7s_H",
        "colab_type": "code",
        "colab": {}
      },
      "source": [
        "def download_data(datasets, timerange, coordinates, outputFolder, scale, report=False, testRun=True):\n",
        "      \n",
        "  print(\"Exporing Image to \" + outputFolder + \" Folder\")\n",
        "\n",
        "  for d_i,d in enumerate(datasets):\n",
        "    \n",
        "    print(\"\\nProcessing \" + d + \"...\")\n",
        "    \n",
        "    for c_i, c in enumerate(coordinates):\n",
        "\n",
        "      if d == \"COPERNICUS/S2\" or d == \"COPERNICUS/S2_SR\":\n",
        "        image = process_sentinel(d, timerange, c)\n",
        "      elif d == \"NASA/FLDAS/NOAH01/C/GL/M/V001\" or d == \"NASA/GLDAS/V021/NOAH/G025/T3H\":\n",
        "        # SELECT BAND\n",
        "        image = process_FLDAS(d, timerange, c, 'AvgSurfT_inst')\n",
        "      else:\n",
        "        collection = (ee.ImageCollection(d)\n",
        "                .filterDate(timerange[0], timerange[1])\n",
        "                .filterBounds(c)\n",
        "                )\n",
        "        image = collection.first().clip(c)\n",
        "\n",
        "      if testRun:\n",
        "        print(\"Dataset: \" + str(d_i) + \", Coordinates: \" + str(c_i))\n",
        "      else:\n",
        "        print(\"Sending img_\"+ str(d_i) + \"_\" + str(c_i)+\" to GEE...\", end=\" \")\n",
        "        task = ee.batch.Export.image.toDrive(\n",
        "            image=image,\n",
        "            description=\"img_\" + str(d_i) + \"_\" + str(c_i),\n",
        "            folder=\"testing_ee\",\n",
        "            region=c,\n",
        "            scale=30\n",
        "        )\n",
        "        task.start()\n",
        "        print(\"\\x1b[32mComplete\\x1b[0m\")\n",
        "\n",
        "    print(\"Complete\")"
      ],
      "execution_count": 16,
      "outputs": []
    },
    {
      "cell_type": "markdown",
      "metadata": {
        "id": "MZMT7z-S8gCI",
        "colab_type": "text"
      },
      "source": [
        "### Image download \n",
        "Use function if downloading image rather than image collection"
      ]
    },
    {
      "cell_type": "code",
      "metadata": {
        "id": "Lo2Qtny9rz6C",
        "colab_type": "code",
        "colab": {}
      },
      "source": [
        "def download_data_image(datasets, timerange, coordinates, outputFolder, scale, report=False, testRun=True):\n",
        "\n",
        "  image = (ee.Image(dataset))\n",
        "  image = image.clip(coordinates)\n",
        "\n",
        "  task = ee.batch.Export.image.toDrive(\n",
        "          image=image,\n",
        "          description=\"image\",\n",
        "          folder=\"testing_ee\",\n",
        "          scale=30,\n",
        "          \n",
        "      )\n",
        "  task.start()\n",
        "  print(\"Complete\")\n",
        "    "
      ],
      "execution_count": 18,
      "outputs": []
    },
    {
      "cell_type": "markdown",
      "metadata": {
        "id": "kP0VOmQv8nfP",
        "colab_type": "text"
      },
      "source": [
        "### Generate Polygon\n",
        "Takes a center coordinate and box size and returns a polygon for cropping"
      ]
    },
    {
      "cell_type": "code",
      "metadata": {
        "id": "VrjaZFcVfKvo",
        "colab_type": "code",
        "colab": {}
      },
      "source": [
        "# Method to generate polygons from center points and grid sizes\n",
        "def generate_polygons(coordinates, boxSize):\n",
        "  polygons = []\n",
        "  for c in coordinates:\n",
        "    bw = boxSize[0]/2\n",
        "    bh = boxSize[1]/2\n",
        "    wc = c[0]\n",
        "    hc = c[1]\n",
        "\n",
        "    polygon = ee.Geometry.Polygon([\n",
        "      [[wc-bw, hc-bh],\n",
        "      [wc+bw, hc-bh],\n",
        "      [wc+bw, hc+bh],\n",
        "      [wc-bw, hc+bh],\n",
        "      [wc-bw, hc-bh]\n",
        "      ]\n",
        "    ])\n",
        "\n",
        "    polygons.append(polygon)\n",
        "  print(polygons)\n",
        "  return polygons"
      ],
      "execution_count": 11,
      "outputs": []
    },
    {
      "cell_type": "markdown",
      "metadata": {
        "id": "Z981Au1M9Hi4",
        "colab_type": "text"
      },
      "source": [
        "### Call Functions\n",
        "Example of calling download_data function"
      ]
    },
    {
      "cell_type": "code",
      "metadata": {
        "id": "AWJToUE7-zFo",
        "colab_type": "code",
        "colab": {}
      },
      "source": [
        "datasets = ['CIESIN/GPWv411/GPW_Basic_Demographic_Characteristics', \n",
        "            'NASA/FLDAS/NOAH01/C/GL/M/V001', \n",
        "            'NASA/GLDAS/V021/NOAH/G025/T3H', \n",
        "            'JAXA/ALOS/PALSAR/YEARLY/FNF',\n",
        "            'COPERNICUS/Landcover/100m/Proba-V/Global',\n",
        "            'MODIS/006/MCD12Q1',\n",
        "            'NASA/MEASURES/GFCC/TC/v3',\n",
        "            'CIESIN/GPWv411/GPW_Population_Density'\n",
        "            ]\n",
        "\n",
        "# Date range, datetime(year, month, day)\n",
        "dates = [datetime.datetime(2010, 1, 1), datetime.datetime(2019, 5, 1)]\n",
        "\n",
        "# Center coordinate and box size\n",
        "centers = [[47.5207953674, -18.9101632941]]\n",
        "box = [0.2, 0.2]\n",
        "\n",
        "\n",
        "download_data(datasets=datasets, timerange=dates, coordinates=generate_polygons(centers, box) , outputFolder='testing_ee', scale=1, testRun=False)"
      ],
      "execution_count": null,
      "outputs": []
    },
    {
      "cell_type": "code",
      "metadata": {
        "id": "QF1GFCNYPgBT",
        "colab_type": "code",
        "colab": {}
      },
      "source": [
        ""
      ],
      "execution_count": null,
      "outputs": []
    }
  ]
}