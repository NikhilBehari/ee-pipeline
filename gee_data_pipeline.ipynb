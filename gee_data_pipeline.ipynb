{
  "nbformat": 4,
  "nbformat_minor": 0,
  "metadata": {
    "colab": {
      "name": "gee_data_pipeline.ipynb",
      "provenance": [],
      "collapsed_sections": []
    },
    "kernelspec": {
      "name": "python3",
      "display_name": "Python 3"
    }
  },
  "cells": [
    {
      "cell_type": "code",
      "metadata": {
        "id": "8KRTRorP-gBf",
        "colab_type": "code",
        "cellView": "both",
        "colab": {
          "base_uri": "https://localhost:8080/",
          "height": 241
        },
        "outputId": "835c2675-a840-4c38-80bb-01ec4b6dee5c"
      },
      "source": [
        "import ee\n",
        "import ee.mapclient\n",
        "import time\n",
        "import datetime\n",
        "import sys\n",
        "!pip install geetools"
      ],
      "execution_count": 1,
      "outputs": [
        {
          "output_type": "stream",
          "text": [
            "Requirement already satisfied: geetools in /usr/local/lib/python3.6/dist-packages (0.6.0)\n",
            "Requirement already satisfied: pandas in /usr/local/lib/python3.6/dist-packages (from geetools) (1.0.5)\n",
            "Requirement already satisfied: requests in /usr/local/lib/python3.6/dist-packages (from geetools) (2.23.0)\n",
            "Requirement already satisfied: pyshp in /usr/local/lib/python3.6/dist-packages (from geetools) (2.1.0)\n",
            "Requirement already satisfied: numpy>=1.13.3 in /usr/local/lib/python3.6/dist-packages (from pandas->geetools) (1.18.5)\n",
            "Requirement already satisfied: pytz>=2017.2 in /usr/local/lib/python3.6/dist-packages (from pandas->geetools) (2018.9)\n",
            "Requirement already satisfied: python-dateutil>=2.6.1 in /usr/local/lib/python3.6/dist-packages (from pandas->geetools) (2.8.1)\n",
            "Requirement already satisfied: idna<3,>=2.5 in /usr/local/lib/python3.6/dist-packages (from requests->geetools) (2.10)\n",
            "Requirement already satisfied: certifi>=2017.4.17 in /usr/local/lib/python3.6/dist-packages (from requests->geetools) (2020.6.20)\n",
            "Requirement already satisfied: chardet<4,>=3.0.2 in /usr/local/lib/python3.6/dist-packages (from requests->geetools) (3.0.4)\n",
            "Requirement already satisfied: urllib3!=1.25.0,!=1.25.1,<1.26,>=1.21.1 in /usr/local/lib/python3.6/dist-packages (from requests->geetools) (1.24.3)\n",
            "Requirement already satisfied: six>=1.5 in /usr/local/lib/python3.6/dist-packages (from python-dateutil>=2.6.1->pandas->geetools) (1.12.0)\n"
          ],
          "name": "stdout"
        }
      ]
    },
    {
      "cell_type": "code",
      "metadata": {
        "id": "oS9zQ3eC-noi",
        "colab_type": "code",
        "colab": {
          "base_uri": "https://localhost:8080/",
          "height": 173
        },
        "outputId": "300aac2e-d828-4dba-d6c9-ba517bf285a4"
      },
      "source": [
        "ee.Authenticate()\n",
        "ee.Initialize()"
      ],
      "execution_count": 2,
      "outputs": [
        {
          "output_type": "stream",
          "text": [
            "To authorize access needed by Earth Engine, open the following URL in a web browser and follow the instructions. If the web browser does not start automatically, please manually browse the URL below.\n",
            "\n",
            "    https://accounts.google.com/o/oauth2/auth?client_id=517222506229-vsmmajv00ul0bs7p89v5m89qs8eb9359.apps.googleusercontent.com&scope=https%3A%2F%2Fwww.googleapis.com%2Fauth%2Fearthengine+https%3A%2F%2Fwww.googleapis.com%2Fauth%2Fdevstorage.full_control&redirect_uri=urn%3Aietf%3Awg%3Aoauth%3A2.0%3Aoob&response_type=code&code_challenge=8JZ6m7Z9TVLBhMQPbif3NxJy3KIf_txR199TC52ilCE&code_challenge_method=S256\n",
            "\n",
            "The authorization workflow will generate a code, which you should paste in the box below. \n",
            "Enter verification code: 4/2AHmszpYfy-rT7epskfIdFRcqUbweTVUTXm170V5DVRz0hIROt1PZuQ\n",
            "\n",
            "Successfully saved authorization token.\n"
          ],
          "name": "stdout"
        }
      ]
    },
    {
      "cell_type": "code",
      "metadata": {
        "id": "IHAlZyjt7YIx",
        "colab_type": "code",
        "colab": {}
      },
      "source": [
        "# Method for processing Sentinel-2 dataset\n",
        "def process_sentinel(dataset, time_range, area):\n",
        "\n",
        "    # remove clouds from images with masking\n",
        "    def maskclouds(image):\n",
        "        band_qa = image.select('QA60')\n",
        "        cloud_m = ee.Number(2).pow(10).int()\n",
        "        cirrus_m = ee.Number(2).pow(11).int()\n",
        "        mask = band_qa.bitwiseAnd(cloud_m).eq(0) and(\n",
        "            band_qa.bitwiseAnd(cirrus_m).eq(0))\n",
        "        return image.updateMask(mask).divide(10000)\n",
        "\n",
        "    # produce filtered image using median\n",
        "    filter_image = (ee.ImageCollection(dataset).\n",
        "                         filterBounds(area).\n",
        "                         filterDate(time_range[0], time_range[1]).\n",
        "                         filter(ee.Filter.lt('CLOUDY_PIXEL_PERCENTAGE', 20)).\n",
        "                         map(maskclouds))\n",
        "\n",
        "    sentinel_median = filter_image.median()\n",
        "\n",
        "    # col = ee.ImageCollection(dataset).\n",
        "    #                      filterBounds(area).\n",
        "    #                      filterDate(time_range[0], time_range[1]))\n",
        "    # image = col.first();\n",
        "\n",
        "    image_band = sentinel_median.select(['B4','B3','B2'])\n",
        "    return sentinel_median"
      ],
      "execution_count": 3,
      "outputs": []
    },
    {
      "cell_type": "code",
      "metadata": {
        "id": "v0y80hXiX5nd",
        "colab_type": "code",
        "colab": {}
      },
      "source": [
        "# Method for processing FLDAS dataset \n",
        "def process_FLDAS(dataset, timerange, coordinates, band):\n",
        "    collection = (ee.ImageCollection(dataset)\n",
        "            .filterDate(timerange[0], timerange[1])\n",
        "            .filterBounds(coordinates)\n",
        "            ).select(band);\n",
        "    \n",
        "    collection = collection.sort('CLOUD_COVER')\n",
        "\n",
        "    image = collection.first().visualize(\n",
        "          min= 0.0,\n",
        "          max= 0.00005,\n",
        "          opacity=1.0,\n",
        "          palette= [\"black\", \"blue\", \"purple\", \"cyan\", \"green\", \"yellow\", \"red\"]\n",
        "    )\n",
        "\n",
        "    return image.clip(coordinates)"
      ],
      "execution_count": 4,
      "outputs": []
    },
    {
      "cell_type": "code",
      "metadata": {
        "id": "U3ZrCsc_nSRX",
        "colab_type": "code",
        "colab": {}
      },
      "source": [
        "# Method for processing GLDAS dataset\n",
        "def process_GLDAS(dataset, timerange, coordinates, band):\n",
        "    collection = (ee.ImageCollection(dataset)\n",
        "            .filterDate(timerange[0], timerange[1])\n",
        "            .filterBounds(coordinates)\n",
        "            ).select(band);\n",
        "    \n",
        "    collection = collection.sort('CLOUD_COVER')\n",
        "\n",
        "    image = collection.first().visualize(\n",
        "          min= 250.0,\n",
        "          max= 300.0,\n",
        "          palette= ['1303ff', '42fff6', 'f3ff40', 'ff5d0f'],\n",
        "    )\n",
        "\n",
        "    return image.clip(coordinates)"
      ],
      "execution_count": 5,
      "outputs": []
    },
    {
      "cell_type": "code",
      "metadata": {
        "id": "ddVYWIdz7s_H",
        "colab_type": "code",
        "colab": {}
      },
      "source": [
        "def download_data(datasets, timerange, coordinates, outputFolder, scale, report=False, testRun=True):\n",
        "      \n",
        "  print(\"Exporing Image to \" + outputFolder + \" Folder\")\n",
        "\n",
        "  for d_i,d in enumerate(datasets):\n",
        "    \n",
        "    print(\"\\nProcessing \" + d + \"...\")\n",
        "    \n",
        "    for c_i, c in enumerate(coordinates):\n",
        "\n",
        "      if d == \"COPERNICUS/S2\":\n",
        "        image = process_sentinel(d, timerange, c)\n",
        "      elif d == \"NASA/FLDAS/NOAH01/C/GL/M/V001\":\n",
        "        image = process_FLDAS(d, timerange, c, 'Evap_tavg')\n",
        "      elif d == \"NASA/GLDAS/V021/NOAH/G025/T3H\":\n",
        "        image = process_GLDAS(d, timerange, c, 'AvgSurfT_inst')\n",
        "      else: \n",
        "        collection = (ee.ImageCollection(d)\n",
        "                .filterDate(timerange[0], timerange[1])\n",
        "                .filterBounds(c)\n",
        "                )\n",
        "        \n",
        "        # print(\"Number of Images Found: \" + str(collection.size().getInfo()))\n",
        "        collection = collection.sort('CLOUD_COVER')\n",
        "\n",
        "        image = collection.first().clip(c)\n",
        "\n",
        "      if testRun:\n",
        "        print(\"Dataset: \" + str(d_i) + \", Coordinates: \" + str(c_i))\n",
        "      else:\n",
        "        print(\"Sending img_\"+ str(d_i) + \"_\" + str(c_i)+\" to GEE...\", end=\" \")\n",
        "        task = ee.batch.Export.image.toDrive(\n",
        "            image=image,\n",
        "            description=\"img_\" + str(d_i) + \"_\" + str(c_i),\n",
        "            folder=\"testing_ee\",\n",
        "            region=c,\n",
        "            scale=30\n",
        "        )\n",
        "        task.start()\n",
        "        print(\"\\x1b[32mComplete\\x1b[0m\")\n",
        "\n",
        "    print(\"Complete\")"
      ],
      "execution_count": 6,
      "outputs": []
    },
    {
      "cell_type": "code",
      "metadata": {
        "id": "VrjaZFcVfKvo",
        "colab_type": "code",
        "colab": {}
      },
      "source": [
        "# Method to generate polygons from center points and grid sizes\n",
        "def generate_polygons(coordinates, boxSize):\n",
        "  polygons = []\n",
        "  for c in coordinates:\n",
        "    bw = boxSize[0]/2\n",
        "    bh = boxSize[1]/2\n",
        "    wc = c[0]\n",
        "    hc = c[1]\n",
        "\n",
        "    polygon = ee.Geometry.Polygon([\n",
        "      [[wc-bw, hc-bh],\n",
        "      [wc+bw, hc-bh],\n",
        "      [wc+bw, hc+bh],\n",
        "      [wc-bw, hc+bh],\n",
        "      [wc-bw, hc-bh]\n",
        "      ]\n",
        "    ])\n",
        "\n",
        "    polygons.append(polygon)\n",
        "  return polygons"
      ],
      "execution_count": 7,
      "outputs": []
    },
    {
      "cell_type": "code",
      "metadata": {
        "id": "AWJToUE7-zFo",
        "colab_type": "code",
        "colab": {
          "base_uri": "https://localhost:8080/",
          "height": 119
        },
        "outputId": "840d4e60-1eeb-47c0-8f16-64d69b51926d"
      },
      "source": [
        "# datasets = ['COPERNICUS/S2', 'CIESIN/GPWv411/GPW_Basic_Demographic_Characteristics', 'NASA/FLDAS/NOAH01/C/GL/M/V001', 'NASA/GLDAS/V021/NOAH/G025/T3H', 'JAXA/ALOS/PALSAR/YEARLY/FNF']\n",
        "datasets = ['COPERNICUS/S2']\n",
        "\n",
        "# Date range, datetime(year, month, day)\n",
        "dates = [datetime.datetime(2010, 1, 1), datetime.datetime(2019, 5, 1)]\n",
        "\n",
        "# Center coordinate and box size\n",
        "centers = [[-80.0107, 40.4421], [-80.10123093348129,40.59933685509059]]\n",
        "# centers = [[-80.0107, 40.4421]]\n",
        "box = [0.02, 0.02]\n",
        "\n",
        "download_data(datasets=datasets, timerange=dates, coordinates=generate_polygons(centers, box) , outputFolder='testing_ee', scale=1, testRun=False)"
      ],
      "execution_count": 9,
      "outputs": [
        {
          "output_type": "stream",
          "text": [
            "Exporing Image to testing_ee Folder\n",
            "\n",
            "Processing COPERNICUS/S2...\n",
            "Sending img_0_0 to GEE... \u001b[32mComplete\u001b[0m\n",
            "Sending img_0_1 to GEE... \u001b[32mComplete\u001b[0m\n",
            "Complete\n"
          ],
          "name": "stdout"
        }
      ]
    },
    {
      "cell_type": "code",
      "metadata": {
        "id": "Q53ArgAKq1ls",
        "colab_type": "code",
        "colab": {}
      },
      "source": [
        ""
      ],
      "execution_count": 8,
      "outputs": []
    }
  ]
}