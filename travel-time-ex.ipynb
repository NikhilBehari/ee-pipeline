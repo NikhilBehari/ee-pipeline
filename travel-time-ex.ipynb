{
 "cells": [
  {
   "cell_type": "markdown",
   "metadata": {},
   "source": [
    "### Goals \n",
    "We wish to develop and refine a travel time to markets map. This determines the distance to the nearest market from any given raster location. Specifically, we wish to use locations from survey regions and target markets identified from the surveys. \n",
    "\n",
    "#### Steps\n",
    "1. Read in coordinates of focus group regions \n",
    "2. Read in markets list\n",
    "3. Find coordinates for each market in market list \n",
    "4. Import a travel time friction map \n",
    "5. Construct a graph using friction map\n",
    "6. Use shortest path algorithm \n",
    "\n",
    "Other notes: Use specific regions for examples. "
   ]
  },
  {
   "cell_type": "code",
   "execution_count": 41,
   "metadata": {},
   "outputs": [
    {
     "ename": "ModuleNotFoundError",
     "evalue": "No module named 'osmnx'",
     "output_type": "error",
     "traceback": [
      "\u001b[0;31m---------------------------------------------------------------------------\u001b[0m",
      "\u001b[0;31mModuleNotFoundError\u001b[0m                       Traceback (most recent call last)",
      "\u001b[0;32m<ipython-input-41-7186608cfade>\u001b[0m in \u001b[0;36m<module>\u001b[0;34m\u001b[0m\n\u001b[1;32m      3\u001b[0m \u001b[0;32mimport\u001b[0m \u001b[0mnumpy\u001b[0m \u001b[0;32mas\u001b[0m \u001b[0mnp\u001b[0m\u001b[0;34m\u001b[0m\u001b[0;34m\u001b[0m\u001b[0m\n\u001b[1;32m      4\u001b[0m \u001b[0;32mimport\u001b[0m \u001b[0mos\u001b[0m\u001b[0;34m\u001b[0m\u001b[0;34m\u001b[0m\u001b[0m\n\u001b[0;32m----> 5\u001b[0;31m \u001b[0;32mimport\u001b[0m \u001b[0mosmnx\u001b[0m \u001b[0;32mas\u001b[0m \u001b[0mox\u001b[0m\u001b[0;34m\u001b[0m\u001b[0;34m\u001b[0m\u001b[0m\n\u001b[0m",
      "\u001b[0;31mModuleNotFoundError\u001b[0m: No module named 'osmnx'"
     ]
    }
   ],
   "source": [
    "import csv\n",
    "import pandas as pd\n",
    "import numpy as np\n",
    "import os \n",
    "import osmnx as ox"
   ]
  },
  {
   "cell_type": "code",
   "execution_count": 33,
   "metadata": {},
   "outputs": [],
   "source": [
    "IN = \"regions/\"\n",
    "SOURCE = \"sources.csv\"\n",
    "TARGET = \"targets.csv\""
   ]
  },
  {
   "cell_type": "code",
   "execution_count": 34,
   "metadata": {},
   "outputs": [],
   "source": [
    "def getSourceRegions():\n",
    "    df = pd.read_csv(IN + SOURCE)\n",
    "    lats = df['latitude']\n",
    "    longs = df['longitude']\n",
    "    source_coords = np.array(list(zip(lats.tolist(), longs.tolist())))\n",
    "    return(source_coords)"
   ]
  },
  {
   "cell_type": "code",
   "execution_count": 39,
   "metadata": {},
   "outputs": [],
   "source": [
    "def getTargetRegions():\n",
    "    df = pd.read_csv(IN + TARGET)\n",
    "    market_names = df['Nearest market (1)']\n",
    "    \n",
    "    # Get \n",
    "    print(market_names)"
   ]
  },
  {
   "cell_type": "code",
   "execution_count": 40,
   "metadata": {},
   "outputs": [
    {
     "name": "stdout",
     "output_type": "stream",
     "text": [
      "0                                         Mananjary\n",
      "1                                         Mananjary\n",
      "2                                         Mananjary\n",
      "3                                        Ankatafana\n",
      "4                                        Ankatafana\n",
      "5                                       Antsenavolo\n",
      "6                                        Tsianisiha\n",
      "7                                             Miary\n",
      "8                                             Miary\n",
      "9                                    Ankilimalinike\n",
      "10                                   Ankilimalinike\n",
      "11                                            Miary\n",
      "12                                      Mangolovolo\n",
      "13                                       Ambahikily\n",
      "14                                         Morafeno\n",
      "15                                         Basibasy\n",
      "16                                         Basibasy\n",
      "17                                         Maharihy\n",
      "18    Alakamisy Ambohimahazo (chef lieu de commune)\n",
      "19    Alakamisy Ambohimahazo (chef lieu de commune)\n",
      "20    Alakamisy Ambohimahazo (chef lieu de commune)\n",
      "21                                  Ambondromisotra\n",
      "22                                     Ilaka centre\n",
      "23                                     Ilaka centre\n",
      "Name: Nearest market (1), dtype: object\n"
     ]
    }
   ],
   "source": [
    "getTargetRegions()"
   ]
  },
  {
   "cell_type": "code",
   "execution_count": null,
   "metadata": {},
   "outputs": [],
   "source": []
  }
 ],
 "metadata": {
  "kernelspec": {
   "display_name": "Python 3",
   "language": "python",
   "name": "python3"
  },
  "language_info": {
   "codemirror_mode": {
    "name": "ipython",
    "version": 3
   },
   "file_extension": ".py",
   "mimetype": "text/x-python",
   "name": "python",
   "nbconvert_exporter": "python",
   "pygments_lexer": "ipython3",
   "version": "3.7.6"
  }
 },
 "nbformat": 4,
 "nbformat_minor": 4
}
